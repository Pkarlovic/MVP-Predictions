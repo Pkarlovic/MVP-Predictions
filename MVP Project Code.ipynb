{
 "cells": [
  {
   "cell_type": "code",
   "execution_count": 1,
   "id": "a02f7ccc",
   "metadata": {},
   "outputs": [],
   "source": [
    "#Importing some necessary libraries\n",
    "\n",
    "import pandas as pd \n",
    "import numpy as np\n",
    "from tqdm import tqdm\n",
    "import pickle\n",
    "import matplotlib.pyplot as plt\n",
    "import seaborn as sns"
   ]
  },
  {
   "cell_type": "code",
   "execution_count": 2,
   "id": "2b06fb55",
   "metadata": {},
   "outputs": [],
   "source": [
    "#Loading and checking our data\n",
    "\n",
    "df = pd.read_pickle(\"cleaned_data.pkl\")"
   ]
  },
  {
   "cell_type": "code",
   "execution_count": 3,
   "id": "ab6d985e",
   "metadata": {},
   "outputs": [
    {
     "data": {
      "text/html": [
       "<div>\n",
       "<style scoped>\n",
       "    .dataframe tbody tr th:only-of-type {\n",
       "        vertical-align: middle;\n",
       "    }\n",
       "\n",
       "    .dataframe tbody tr th {\n",
       "        vertical-align: top;\n",
       "    }\n",
       "\n",
       "    .dataframe thead th {\n",
       "        text-align: right;\n",
       "    }\n",
       "</style>\n",
       "<table border=\"1\" class=\"dataframe\">\n",
       "  <thead>\n",
       "    <tr style=\"text-align: right;\">\n",
       "      <th></th>\n",
       "      <th>PLAYER_ID</th>\n",
       "      <th>SEASON_ID</th>\n",
       "      <th>LEAGUE_ID</th>\n",
       "      <th>TEAM_ID</th>\n",
       "      <th>TEAM_ABBREVIATION</th>\n",
       "      <th>PLAYER_AGE</th>\n",
       "      <th>GP</th>\n",
       "      <th>GS</th>\n",
       "      <th>MIN</th>\n",
       "      <th>FGM</th>\n",
       "      <th>...</th>\n",
       "      <th>BLK</th>\n",
       "      <th>TOV</th>\n",
       "      <th>PF</th>\n",
       "      <th>PTS</th>\n",
       "      <th>WIN_PCT</th>\n",
       "      <th>CONF_RANK</th>\n",
       "      <th>DIV_RANK</th>\n",
       "      <th>player_of_week</th>\n",
       "      <th>player_of_month</th>\n",
       "      <th>MVP</th>\n",
       "    </tr>\n",
       "  </thead>\n",
       "  <tbody>\n",
       "    <tr>\n",
       "      <th>0</th>\n",
       "      <td>76001</td>\n",
       "      <td>1990-91</td>\n",
       "      <td>00</td>\n",
       "      <td>1610612757</td>\n",
       "      <td>POR</td>\n",
       "      <td>23.0</td>\n",
       "      <td>43</td>\n",
       "      <td>0</td>\n",
       "      <td>290.0</td>\n",
       "      <td>55</td>\n",
       "      <td>...</td>\n",
       "      <td>12</td>\n",
       "      <td>22</td>\n",
       "      <td>39</td>\n",
       "      <td>135</td>\n",
       "      <td>0.768</td>\n",
       "      <td>1</td>\n",
       "      <td>1</td>\n",
       "      <td>0</td>\n",
       "      <td>0</td>\n",
       "      <td>0</td>\n",
       "    </tr>\n",
       "    <tr>\n",
       "      <th>1</th>\n",
       "      <td>76017</td>\n",
       "      <td>1990-91</td>\n",
       "      <td>00</td>\n",
       "      <td>1610612757</td>\n",
       "      <td>POR</td>\n",
       "      <td>32.0</td>\n",
       "      <td>80</td>\n",
       "      <td>0</td>\n",
       "      <td>1710.0</td>\n",
       "      <td>337</td>\n",
       "      <td>...</td>\n",
       "      <td>13</td>\n",
       "      <td>100</td>\n",
       "      <td>195</td>\n",
       "      <td>890</td>\n",
       "      <td>0.768</td>\n",
       "      <td>1</td>\n",
       "      <td>1</td>\n",
       "      <td>0</td>\n",
       "      <td>0</td>\n",
       "      <td>0</td>\n",
       "    </tr>\n",
       "    <tr>\n",
       "      <th>2</th>\n",
       "      <td>95</td>\n",
       "      <td>1990-91</td>\n",
       "      <td>00</td>\n",
       "      <td>1610612757</td>\n",
       "      <td>POR</td>\n",
       "      <td>26.0</td>\n",
       "      <td>53</td>\n",
       "      <td>0</td>\n",
       "      <td>781.0</td>\n",
       "      <td>99</td>\n",
       "      <td>...</td>\n",
       "      <td>12</td>\n",
       "      <td>33</td>\n",
       "      <td>120</td>\n",
       "      <td>272</td>\n",
       "      <td>0.768</td>\n",
       "      <td>1</td>\n",
       "      <td>1</td>\n",
       "      <td>0</td>\n",
       "      <td>0</td>\n",
       "      <td>0</td>\n",
       "    </tr>\n",
       "    <tr>\n",
       "      <th>3</th>\n",
       "      <td>76441</td>\n",
       "      <td>1990-91</td>\n",
       "      <td>00</td>\n",
       "      <td>1610612757</td>\n",
       "      <td>POR</td>\n",
       "      <td>34.0</td>\n",
       "      <td>67</td>\n",
       "      <td>1</td>\n",
       "      <td>746.0</td>\n",
       "      <td>57</td>\n",
       "      <td>...</td>\n",
       "      <td>61</td>\n",
       "      <td>22</td>\n",
       "      <td>120</td>\n",
       "      <td>147</td>\n",
       "      <td>0.768</td>\n",
       "      <td>1</td>\n",
       "      <td>1</td>\n",
       "      <td>0</td>\n",
       "      <td>0</td>\n",
       "      <td>0</td>\n",
       "    </tr>\n",
       "    <tr>\n",
       "      <th>4</th>\n",
       "      <td>1453</td>\n",
       "      <td>1990-91</td>\n",
       "      <td>00</td>\n",
       "      <td>1610612757</td>\n",
       "      <td>POR</td>\n",
       "      <td>36.0</td>\n",
       "      <td>32</td>\n",
       "      <td>1</td>\n",
       "      <td>439.0</td>\n",
       "      <td>87</td>\n",
       "      <td>...</td>\n",
       "      <td>0</td>\n",
       "      <td>25</td>\n",
       "      <td>42</td>\n",
       "      <td>196</td>\n",
       "      <td>0.768</td>\n",
       "      <td>1</td>\n",
       "      <td>1</td>\n",
       "      <td>0</td>\n",
       "      <td>0</td>\n",
       "      <td>0</td>\n",
       "    </tr>\n",
       "    <tr>\n",
       "      <th>...</th>\n",
       "      <td>...</td>\n",
       "      <td>...</td>\n",
       "      <td>...</td>\n",
       "      <td>...</td>\n",
       "      <td>...</td>\n",
       "      <td>...</td>\n",
       "      <td>...</td>\n",
       "      <td>...</td>\n",
       "      <td>...</td>\n",
       "      <td>...</td>\n",
       "      <td>...</td>\n",
       "      <td>...</td>\n",
       "      <td>...</td>\n",
       "      <td>...</td>\n",
       "      <td>...</td>\n",
       "      <td>...</td>\n",
       "      <td>...</td>\n",
       "      <td>...</td>\n",
       "      <td>...</td>\n",
       "      <td>...</td>\n",
       "      <td>...</td>\n",
       "    </tr>\n",
       "    <tr>\n",
       "      <th>18514</th>\n",
       "      <td>78146</td>\n",
       "      <td>1981-82</td>\n",
       "      <td>00</td>\n",
       "      <td>1610612754</td>\n",
       "      <td>IND</td>\n",
       "      <td>25.0</td>\n",
       "      <td>51</td>\n",
       "      <td>0.0</td>\n",
       "      <td>800.0</td>\n",
       "      <td>91</td>\n",
       "      <td>...</td>\n",
       "      <td>1</td>\n",
       "      <td>42</td>\n",
       "      <td>63</td>\n",
       "      <td>212</td>\n",
       "      <td>0.427</td>\n",
       "      <td>8</td>\n",
       "      <td>4</td>\n",
       "      <td>0</td>\n",
       "      <td>0</td>\n",
       "      <td>0</td>\n",
       "    </tr>\n",
       "    <tr>\n",
       "      <th>18515</th>\n",
       "      <td>1006</td>\n",
       "      <td>1981-82</td>\n",
       "      <td>00</td>\n",
       "      <td>1610612754</td>\n",
       "      <td>IND</td>\n",
       "      <td>24.0</td>\n",
       "      <td>82</td>\n",
       "      <td>75</td>\n",
       "      <td>2277.0</td>\n",
       "      <td>407</td>\n",
       "      <td>...</td>\n",
       "      <td>178</td>\n",
       "      <td>137</td>\n",
       "      <td>200</td>\n",
       "      <td>942</td>\n",
       "      <td>0.427</td>\n",
       "      <td>8</td>\n",
       "      <td>4</td>\n",
       "      <td>0</td>\n",
       "      <td>0</td>\n",
       "      <td>0</td>\n",
       "    </tr>\n",
       "    <tr>\n",
       "      <th>18516</th>\n",
       "      <td>78146</td>\n",
       "      <td>1982-83</td>\n",
       "      <td>00</td>\n",
       "      <td>1610612754</td>\n",
       "      <td>IND</td>\n",
       "      <td>26.0</td>\n",
       "      <td>78</td>\n",
       "      <td>58.0</td>\n",
       "      <td>2435.0</td>\n",
       "      <td>316</td>\n",
       "      <td>...</td>\n",
       "      <td>2</td>\n",
       "      <td>138</td>\n",
       "      <td>185</td>\n",
       "      <td>727</td>\n",
       "      <td>0.244</td>\n",
       "      <td>11</td>\n",
       "      <td>6</td>\n",
       "      <td>0</td>\n",
       "      <td>0</td>\n",
       "      <td>0</td>\n",
       "    </tr>\n",
       "    <tr>\n",
       "      <th>18517</th>\n",
       "      <td>1006</td>\n",
       "      <td>1982-83</td>\n",
       "      <td>00</td>\n",
       "      <td>1610612754</td>\n",
       "      <td>IND</td>\n",
       "      <td>25.0</td>\n",
       "      <td>78</td>\n",
       "      <td>74</td>\n",
       "      <td>2513.0</td>\n",
       "      <td>580</td>\n",
       "      <td>...</td>\n",
       "      <td>171</td>\n",
       "      <td>229</td>\n",
       "      <td>230</td>\n",
       "      <td>1315</td>\n",
       "      <td>0.244</td>\n",
       "      <td>11</td>\n",
       "      <td>6</td>\n",
       "      <td>0</td>\n",
       "      <td>0</td>\n",
       "      <td>0</td>\n",
       "    </tr>\n",
       "    <tr>\n",
       "      <th>18518</th>\n",
       "      <td>78310</td>\n",
       "      <td>1978-79</td>\n",
       "      <td>00</td>\n",
       "      <td>1610612741</td>\n",
       "      <td>CHI</td>\n",
       "      <td>21.0</td>\n",
       "      <td>82</td>\n",
       "      <td>NaN</td>\n",
       "      <td>2753.0</td>\n",
       "      <td>537</td>\n",
       "      <td>...</td>\n",
       "      <td>18</td>\n",
       "      <td>303</td>\n",
       "      <td>270</td>\n",
       "      <td>1338</td>\n",
       "      <td>0.378</td>\n",
       "      <td>11</td>\n",
       "      <td>5</td>\n",
       "      <td>0</td>\n",
       "      <td>0</td>\n",
       "      <td>0</td>\n",
       "    </tr>\n",
       "  </tbody>\n",
       "</table>\n",
       "<p>18519 rows × 33 columns</p>\n",
       "</div>"
      ],
      "text/plain": [
       "      PLAYER_ID SEASON_ID LEAGUE_ID     TEAM_ID TEAM_ABBREVIATION  PLAYER_AGE  \\\n",
       "0         76001   1990-91        00  1610612757               POR        23.0   \n",
       "1         76017   1990-91        00  1610612757               POR        32.0   \n",
       "2            95   1990-91        00  1610612757               POR        26.0   \n",
       "3         76441   1990-91        00  1610612757               POR        34.0   \n",
       "4          1453   1990-91        00  1610612757               POR        36.0   \n",
       "...         ...       ...       ...         ...               ...         ...   \n",
       "18514     78146   1981-82        00  1610612754               IND        25.0   \n",
       "18515      1006   1981-82        00  1610612754               IND        24.0   \n",
       "18516     78146   1982-83        00  1610612754               IND        26.0   \n",
       "18517      1006   1982-83        00  1610612754               IND        25.0   \n",
       "18518     78310   1978-79        00  1610612741               CHI        21.0   \n",
       "\n",
       "       GP    GS     MIN  FGM  ...  BLK  TOV   PF   PTS  WIN_PCT CONF_RANK  \\\n",
       "0      43     0   290.0   55  ...   12   22   39   135    0.768         1   \n",
       "1      80     0  1710.0  337  ...   13  100  195   890    0.768         1   \n",
       "2      53     0   781.0   99  ...   12   33  120   272    0.768         1   \n",
       "3      67     1   746.0   57  ...   61   22  120   147    0.768         1   \n",
       "4      32     1   439.0   87  ...    0   25   42   196    0.768         1   \n",
       "...    ..   ...     ...  ...  ...  ...  ...  ...   ...      ...       ...   \n",
       "18514  51   0.0   800.0   91  ...    1   42   63   212    0.427         8   \n",
       "18515  82    75  2277.0  407  ...  178  137  200   942    0.427         8   \n",
       "18516  78  58.0  2435.0  316  ...    2  138  185   727    0.244        11   \n",
       "18517  78    74  2513.0  580  ...  171  229  230  1315    0.244        11   \n",
       "18518  82   NaN  2753.0  537  ...   18  303  270  1338    0.378        11   \n",
       "\n",
       "      DIV_RANK  player_of_week player_of_month MVP  \n",
       "0            1               0               0   0  \n",
       "1            1               0               0   0  \n",
       "2            1               0               0   0  \n",
       "3            1               0               0   0  \n",
       "4            1               0               0   0  \n",
       "...        ...             ...             ...  ..  \n",
       "18514        4               0               0   0  \n",
       "18515        4               0               0   0  \n",
       "18516        6               0               0   0  \n",
       "18517        6               0               0   0  \n",
       "18518        5               0               0   0  \n",
       "\n",
       "[18519 rows x 33 columns]"
      ]
     },
     "execution_count": 3,
     "metadata": {},
     "output_type": "execute_result"
    }
   ],
   "source": [
    "df"
   ]
  },
  {
   "cell_type": "code",
   "execution_count": 4,
   "id": "9d730365",
   "metadata": {},
   "outputs": [
    {
     "data": {
      "text/plain": [
       "Index(['PLAYER_ID', 'SEASON_ID', 'LEAGUE_ID', 'TEAM_ID', 'TEAM_ABBREVIATION',\n",
       "       'PLAYER_AGE', 'GP', 'GS', 'MIN', 'FGM', 'FGA', 'FG_PCT', 'FG3M', 'FG3A',\n",
       "       'FG3_PCT', 'FTM', 'FTA', 'FT_PCT', 'OREB', 'DREB', 'REB', 'AST', 'STL',\n",
       "       'BLK', 'TOV', 'PF', 'PTS', 'WIN_PCT', 'CONF_RANK', 'DIV_RANK',\n",
       "       'player_of_week', 'player_of_month', 'MVP'],\n",
       "      dtype='object')"
      ]
     },
     "execution_count": 4,
     "metadata": {},
     "output_type": "execute_result"
    }
   ],
   "source": [
    "df.columns"
   ]
  },
  {
   "cell_type": "code",
   "execution_count": 5,
   "id": "dddfc70f",
   "metadata": {},
   "outputs": [],
   "source": [
    "df.drop(columns=[\"LEAGUE_ID\",\"TEAM_ID\",\"TEAM_ABBREVIATION\"],inplace=True)"
   ]
  },
  {
   "cell_type": "code",
   "execution_count": 6,
   "id": "2200b012",
   "metadata": {},
   "outputs": [],
   "source": [
    "df['SEASON_ID'] = df['SEASON_ID'].map(lambda x: int(x.split(\"-\",1)[0]))"
   ]
  },
  {
   "cell_type": "code",
   "execution_count": 7,
   "id": "518ac52b",
   "metadata": {},
   "outputs": [],
   "source": [
    "num_cols = ['PLAYER_AGE', 'GP', 'GS', 'MIN', 'FGM', 'FGA', 'FG_PCT', 'FG3M', 'FG3A',\n",
    "       'FG3_PCT', 'FTM', 'FTA', 'FT_PCT', 'OREB', 'DREB', 'REB', 'AST', 'STL',\n",
    "       'BLK', 'TOV', 'PF', 'PTS', 'WIN_PCT', 'CONF_RANK', 'DIV_RANK',\n",
    "       'player_of_week', 'player_of_month']"
   ]
  },
  {
   "cell_type": "code",
   "execution_count": 8,
   "id": "3758ebdf",
   "metadata": {},
   "outputs": [
    {
     "data": {
      "text/html": [
       "<div>\n",
       "<style scoped>\n",
       "    .dataframe tbody tr th:only-of-type {\n",
       "        vertical-align: middle;\n",
       "    }\n",
       "\n",
       "    .dataframe tbody tr th {\n",
       "        vertical-align: top;\n",
       "    }\n",
       "\n",
       "    .dataframe thead th {\n",
       "        text-align: right;\n",
       "    }\n",
       "</style>\n",
       "<table border=\"1\" class=\"dataframe\">\n",
       "  <thead>\n",
       "    <tr style=\"text-align: right;\">\n",
       "      <th></th>\n",
       "      <th>PLAYER_ID</th>\n",
       "      <th>SEASON_ID</th>\n",
       "      <th>PLAYER_AGE</th>\n",
       "      <th>GP</th>\n",
       "      <th>GS</th>\n",
       "      <th>MIN</th>\n",
       "      <th>FGM</th>\n",
       "      <th>FGA</th>\n",
       "      <th>FG_PCT</th>\n",
       "      <th>FG3M</th>\n",
       "      <th>FG3A</th>\n",
       "      <th>FG3_PCT</th>\n",
       "      <th>FTM</th>\n",
       "      <th>FTA</th>\n",
       "      <th>FT_PCT</th>\n",
       "      <th>OREB</th>\n",
       "      <th>DREB</th>\n",
       "      <th>REB</th>\n",
       "      <th>AST</th>\n",
       "      <th>STL</th>\n",
       "      <th>BLK</th>\n",
       "      <th>TOV</th>\n",
       "      <th>PF</th>\n",
       "      <th>PTS</th>\n",
       "      <th>WIN_PCT</th>\n",
       "      <th>CONF_RANK</th>\n",
       "      <th>DIV_RANK</th>\n",
       "      <th>player_of_week</th>\n",
       "      <th>player_of_month</th>\n",
       "      <th>MVP</th>\n",
       "    </tr>\n",
       "  </thead>\n",
       "  <tbody>\n",
       "    <tr>\n",
       "      <th>625</th>\n",
       "      <td>201566</td>\n",
       "      <td>2016</td>\n",
       "      <td>28.0</td>\n",
       "      <td>81</td>\n",
       "      <td>81</td>\n",
       "      <td>2802.0</td>\n",
       "      <td>824</td>\n",
       "      <td>1941</td>\n",
       "      <td>0.425</td>\n",
       "      <td>200</td>\n",
       "      <td>583</td>\n",
       "      <td>0.343</td>\n",
       "      <td>710</td>\n",
       "      <td>840</td>\n",
       "      <td>0.845</td>\n",
       "      <td>137</td>\n",
       "      <td>727</td>\n",
       "      <td>864</td>\n",
       "      <td>840</td>\n",
       "      <td>132</td>\n",
       "      <td>31</td>\n",
       "      <td>438</td>\n",
       "      <td>190</td>\n",
       "      <td>2558</td>\n",
       "      <td>0.573</td>\n",
       "      <td>6</td>\n",
       "      <td>2</td>\n",
       "      <td>4</td>\n",
       "      <td>2</td>\n",
       "      <td>1</td>\n",
       "    </tr>\n",
       "    <tr>\n",
       "      <th>1304</th>\n",
       "      <td>201142</td>\n",
       "      <td>2013</td>\n",
       "      <td>25.0</td>\n",
       "      <td>81</td>\n",
       "      <td>81</td>\n",
       "      <td>3122.0</td>\n",
       "      <td>849</td>\n",
       "      <td>1688</td>\n",
       "      <td>0.503</td>\n",
       "      <td>192</td>\n",
       "      <td>491</td>\n",
       "      <td>0.391</td>\n",
       "      <td>703</td>\n",
       "      <td>805</td>\n",
       "      <td>0.873</td>\n",
       "      <td>58</td>\n",
       "      <td>540</td>\n",
       "      <td>598</td>\n",
       "      <td>445</td>\n",
       "      <td>103</td>\n",
       "      <td>59</td>\n",
       "      <td>285</td>\n",
       "      <td>174</td>\n",
       "      <td>2593</td>\n",
       "      <td>0.720</td>\n",
       "      <td>2</td>\n",
       "      <td>1</td>\n",
       "      <td>6</td>\n",
       "      <td>4</td>\n",
       "      <td>1</td>\n",
       "    </tr>\n",
       "    <tr>\n",
       "      <th>1921</th>\n",
       "      <td>1717</td>\n",
       "      <td>2006</td>\n",
       "      <td>29.0</td>\n",
       "      <td>78</td>\n",
       "      <td>78</td>\n",
       "      <td>2820.0</td>\n",
       "      <td>673</td>\n",
       "      <td>1341</td>\n",
       "      <td>0.502</td>\n",
       "      <td>72</td>\n",
       "      <td>173</td>\n",
       "      <td>0.416</td>\n",
       "      <td>498</td>\n",
       "      <td>551</td>\n",
       "      <td>0.904</td>\n",
       "      <td>122</td>\n",
       "      <td>571</td>\n",
       "      <td>693</td>\n",
       "      <td>263</td>\n",
       "      <td>52</td>\n",
       "      <td>62</td>\n",
       "      <td>167</td>\n",
       "      <td>171</td>\n",
       "      <td>1916</td>\n",
       "      <td>0.817</td>\n",
       "      <td>1</td>\n",
       "      <td>1</td>\n",
       "      <td>2</td>\n",
       "      <td>1</td>\n",
       "      <td>1</td>\n",
       "    </tr>\n",
       "    <tr>\n",
       "      <th>2232</th>\n",
       "      <td>1449</td>\n",
       "      <td>1983</td>\n",
       "      <td>27.0</td>\n",
       "      <td>79</td>\n",
       "      <td>77</td>\n",
       "      <td>3028.0</td>\n",
       "      <td>758</td>\n",
       "      <td>1542</td>\n",
       "      <td>0.492</td>\n",
       "      <td>18</td>\n",
       "      <td>73</td>\n",
       "      <td>0.247</td>\n",
       "      <td>374</td>\n",
       "      <td>421</td>\n",
       "      <td>0.888</td>\n",
       "      <td>181</td>\n",
       "      <td>615</td>\n",
       "      <td>796</td>\n",
       "      <td>520</td>\n",
       "      <td>144</td>\n",
       "      <td>69</td>\n",
       "      <td>237</td>\n",
       "      <td>197</td>\n",
       "      <td>1908</td>\n",
       "      <td>0.756</td>\n",
       "      <td>1</td>\n",
       "      <td>1</td>\n",
       "      <td>2</td>\n",
       "      <td>0</td>\n",
       "      <td>1</td>\n",
       "    </tr>\n",
       "    <tr>\n",
       "      <th>2239</th>\n",
       "      <td>1449</td>\n",
       "      <td>1984</td>\n",
       "      <td>28.0</td>\n",
       "      <td>80</td>\n",
       "      <td>77</td>\n",
       "      <td>3161.0</td>\n",
       "      <td>918</td>\n",
       "      <td>1760</td>\n",
       "      <td>0.522</td>\n",
       "      <td>56</td>\n",
       "      <td>131</td>\n",
       "      <td>0.427</td>\n",
       "      <td>403</td>\n",
       "      <td>457</td>\n",
       "      <td>0.882</td>\n",
       "      <td>164</td>\n",
       "      <td>678</td>\n",
       "      <td>842</td>\n",
       "      <td>531</td>\n",
       "      <td>129</td>\n",
       "      <td>98</td>\n",
       "      <td>248</td>\n",
       "      <td>208</td>\n",
       "      <td>2295</td>\n",
       "      <td>0.768</td>\n",
       "      <td>1</td>\n",
       "      <td>1</td>\n",
       "      <td>1</td>\n",
       "      <td>2</td>\n",
       "      <td>1</td>\n",
       "    </tr>\n",
       "  </tbody>\n",
       "</table>\n",
       "</div>"
      ],
      "text/plain": [
       "     PLAYER_ID  SEASON_ID  PLAYER_AGE  GP  GS     MIN  FGM   FGA  FG_PCT FG3M  \\\n",
       "625     201566       2016        28.0  81  81  2802.0  824  1941   0.425  200   \n",
       "1304    201142       2013        25.0  81  81  3122.0  849  1688   0.503  192   \n",
       "1921      1717       2006        29.0  78  78  2820.0  673  1341   0.502   72   \n",
       "2232      1449       1983        27.0  79  77  3028.0  758  1542   0.492   18   \n",
       "2239      1449       1984        28.0  80  77  3161.0  918  1760   0.522   56   \n",
       "\n",
       "     FG3A  FG3_PCT  FTM  FTA  FT_PCT OREB DREB  REB  AST  STL BLK  TOV   PF  \\\n",
       "625   583    0.343  710  840   0.845  137  727  864  840  132  31  438  190   \n",
       "1304  491    0.391  703  805   0.873   58  540  598  445  103  59  285  174   \n",
       "1921  173    0.416  498  551   0.904  122  571  693  263   52  62  167  171   \n",
       "2232   73    0.247  374  421   0.888  181  615  796  520  144  69  237  197   \n",
       "2239  131    0.427  403  457   0.882  164  678  842  531  129  98  248  208   \n",
       "\n",
       "       PTS  WIN_PCT  CONF_RANK  DIV_RANK  player_of_week  player_of_month  MVP  \n",
       "625   2558    0.573          6         2               4                2    1  \n",
       "1304  2593    0.720          2         1               6                4    1  \n",
       "1921  1916    0.817          1         1               2                1    1  \n",
       "2232  1908    0.756          1         1               2                0    1  \n",
       "2239  2295    0.768          1         1               1                2    1  "
      ]
     },
     "execution_count": 8,
     "metadata": {},
     "output_type": "execute_result"
    }
   ],
   "source": [
    "pd.set_option(\"display.max_columns\", None)\n",
    "mvp = df.loc[df['MVP'] == 1]\n",
    "mvp.head()"
   ]
  },
  {
   "cell_type": "code",
   "execution_count": 9,
   "id": "bdbb36c7",
   "metadata": {},
   "outputs": [
    {
     "data": {
      "text/html": [
       "<div>\n",
       "<style scoped>\n",
       "    .dataframe tbody tr th:only-of-type {\n",
       "        vertical-align: middle;\n",
       "    }\n",
       "\n",
       "    .dataframe tbody tr th {\n",
       "        vertical-align: top;\n",
       "    }\n",
       "\n",
       "    .dataframe thead th {\n",
       "        text-align: right;\n",
       "    }\n",
       "</style>\n",
       "<table border=\"1\" class=\"dataframe\">\n",
       "  <thead>\n",
       "    <tr style=\"text-align: right;\">\n",
       "      <th></th>\n",
       "      <th>SEASON_ID</th>\n",
       "      <th>PLAYER_AGE</th>\n",
       "      <th>MIN</th>\n",
       "      <th>FG_PCT</th>\n",
       "      <th>FG3_PCT</th>\n",
       "      <th>FT_PCT</th>\n",
       "      <th>WIN_PCT</th>\n",
       "      <th>CONF_RANK</th>\n",
       "      <th>DIV_RANK</th>\n",
       "      <th>player_of_week</th>\n",
       "      <th>player_of_month</th>\n",
       "      <th>MVP</th>\n",
       "    </tr>\n",
       "  </thead>\n",
       "  <tbody>\n",
       "    <tr>\n",
       "      <th>count</th>\n",
       "      <td>41.000000</td>\n",
       "      <td>41.000000</td>\n",
       "      <td>41.000000</td>\n",
       "      <td>41.000000</td>\n",
       "      <td>40.000000</td>\n",
       "      <td>41.000000</td>\n",
       "      <td>41.000000</td>\n",
       "      <td>41.000000</td>\n",
       "      <td>41.000000</td>\n",
       "      <td>41.000000</td>\n",
       "      <td>41.000000</td>\n",
       "      <td>41.0</td>\n",
       "    </tr>\n",
       "    <tr>\n",
       "      <th>mean</th>\n",
       "      <td>1999.951220</td>\n",
       "      <td>28.048780</td>\n",
       "      <td>2916.073171</td>\n",
       "      <td>0.508341</td>\n",
       "      <td>0.293100</td>\n",
       "      <td>0.811317</td>\n",
       "      <td>0.741293</td>\n",
       "      <td>1.487805</td>\n",
       "      <td>1.121951</td>\n",
       "      <td>3.170732</td>\n",
       "      <td>1.707317</td>\n",
       "      <td>1.0</td>\n",
       "    </tr>\n",
       "    <tr>\n",
       "      <th>std</th>\n",
       "      <td>12.066381</td>\n",
       "      <td>2.889215</td>\n",
       "      <td>354.996295</td>\n",
       "      <td>0.036600</td>\n",
       "      <td>0.138368</td>\n",
       "      <td>0.081502</td>\n",
       "      <td>0.075042</td>\n",
       "      <td>1.051712</td>\n",
       "      <td>0.331295</td>\n",
       "      <td>1.828967</td>\n",
       "      <td>1.229713</td>\n",
       "      <td>0.0</td>\n",
       "    </tr>\n",
       "    <tr>\n",
       "      <th>min</th>\n",
       "      <td>1978.000000</td>\n",
       "      <td>22.000000</td>\n",
       "      <td>1832.000000</td>\n",
       "      <td>0.420000</td>\n",
       "      <td>0.000000</td>\n",
       "      <td>0.524000</td>\n",
       "      <td>0.561000</td>\n",
       "      <td>1.000000</td>\n",
       "      <td>1.000000</td>\n",
       "      <td>0.000000</td>\n",
       "      <td>0.000000</td>\n",
       "      <td>1.0</td>\n",
       "    </tr>\n",
       "    <tr>\n",
       "      <th>25%</th>\n",
       "      <td>1990.000000</td>\n",
       "      <td>26.000000</td>\n",
       "      <td>2802.000000</td>\n",
       "      <td>0.493000</td>\n",
       "      <td>0.253750</td>\n",
       "      <td>0.765000</td>\n",
       "      <td>0.707000</td>\n",
       "      <td>1.000000</td>\n",
       "      <td>1.000000</td>\n",
       "      <td>2.000000</td>\n",
       "      <td>1.000000</td>\n",
       "      <td>1.0</td>\n",
       "    </tr>\n",
       "    <tr>\n",
       "      <th>50%</th>\n",
       "      <td>2000.000000</td>\n",
       "      <td>28.000000</td>\n",
       "      <td>2998.000000</td>\n",
       "      <td>0.508000</td>\n",
       "      <td>0.326000</td>\n",
       "      <td>0.832000</td>\n",
       "      <td>0.756000</td>\n",
       "      <td>1.000000</td>\n",
       "      <td>1.000000</td>\n",
       "      <td>3.000000</td>\n",
       "      <td>2.000000</td>\n",
       "      <td>1.0</td>\n",
       "    </tr>\n",
       "    <tr>\n",
       "      <th>75%</th>\n",
       "      <td>2010.000000</td>\n",
       "      <td>29.000000</td>\n",
       "      <td>3161.000000</td>\n",
       "      <td>0.530000</td>\n",
       "      <td>0.394750</td>\n",
       "      <td>0.873000</td>\n",
       "      <td>0.793000</td>\n",
       "      <td>1.000000</td>\n",
       "      <td>1.000000</td>\n",
       "      <td>5.000000</td>\n",
       "      <td>2.000000</td>\n",
       "      <td>1.0</td>\n",
       "    </tr>\n",
       "    <tr>\n",
       "      <th>max</th>\n",
       "      <td>2020.000000</td>\n",
       "      <td>35.000000</td>\n",
       "      <td>3398.000000</td>\n",
       "      <td>0.578000</td>\n",
       "      <td>0.454000</td>\n",
       "      <td>0.921000</td>\n",
       "      <td>0.890000</td>\n",
       "      <td>6.000000</td>\n",
       "      <td>2.000000</td>\n",
       "      <td>7.000000</td>\n",
       "      <td>4.000000</td>\n",
       "      <td>1.0</td>\n",
       "    </tr>\n",
       "  </tbody>\n",
       "</table>\n",
       "</div>"
      ],
      "text/plain": [
       "         SEASON_ID  PLAYER_AGE          MIN     FG_PCT    FG3_PCT     FT_PCT  \\\n",
       "count    41.000000   41.000000    41.000000  41.000000  40.000000  41.000000   \n",
       "mean   1999.951220   28.048780  2916.073171   0.508341   0.293100   0.811317   \n",
       "std      12.066381    2.889215   354.996295   0.036600   0.138368   0.081502   \n",
       "min    1978.000000   22.000000  1832.000000   0.420000   0.000000   0.524000   \n",
       "25%    1990.000000   26.000000  2802.000000   0.493000   0.253750   0.765000   \n",
       "50%    2000.000000   28.000000  2998.000000   0.508000   0.326000   0.832000   \n",
       "75%    2010.000000   29.000000  3161.000000   0.530000   0.394750   0.873000   \n",
       "max    2020.000000   35.000000  3398.000000   0.578000   0.454000   0.921000   \n",
       "\n",
       "         WIN_PCT  CONF_RANK   DIV_RANK  player_of_week  player_of_month   MVP  \n",
       "count  41.000000  41.000000  41.000000       41.000000        41.000000  41.0  \n",
       "mean    0.741293   1.487805   1.121951        3.170732         1.707317   1.0  \n",
       "std     0.075042   1.051712   0.331295        1.828967         1.229713   0.0  \n",
       "min     0.561000   1.000000   1.000000        0.000000         0.000000   1.0  \n",
       "25%     0.707000   1.000000   1.000000        2.000000         1.000000   1.0  \n",
       "50%     0.756000   1.000000   1.000000        3.000000         2.000000   1.0  \n",
       "75%     0.793000   1.000000   1.000000        5.000000         2.000000   1.0  \n",
       "max     0.890000   6.000000   2.000000        7.000000         4.000000   1.0  "
      ]
     },
     "execution_count": 9,
     "metadata": {},
     "output_type": "execute_result"
    }
   ],
   "source": [
    "mvp.describe()"
   ]
  },
  {
   "cell_type": "code",
   "execution_count": 10,
   "id": "81e908c1",
   "metadata": {},
   "outputs": [
    {
     "name": "stderr",
     "output_type": "stream",
     "text": [
      "C:\\Users\\domin\\anaconda3\\lib\\site-packages\\sklearn\\preprocessing\\_data.py:400: RuntimeWarning: All-NaN slice encountered\n",
      "  data_min = np.nanmin(X, axis=0)\n",
      "C:\\Users\\domin\\anaconda3\\lib\\site-packages\\sklearn\\preprocessing\\_data.py:401: RuntimeWarning: All-NaN slice encountered\n",
      "  data_max = np.nanmax(X, axis=0)\n",
      "C:\\Users\\domin\\anaconda3\\lib\\site-packages\\sklearn\\preprocessing\\_data.py:400: RuntimeWarning: All-NaN slice encountered\n",
      "  data_min = np.nanmin(X, axis=0)\n",
      "C:\\Users\\domin\\anaconda3\\lib\\site-packages\\sklearn\\preprocessing\\_data.py:401: RuntimeWarning: All-NaN slice encountered\n",
      "  data_max = np.nanmax(X, axis=0)\n",
      "C:\\Users\\domin\\anaconda3\\lib\\site-packages\\sklearn\\preprocessing\\_data.py:400: RuntimeWarning: All-NaN slice encountered\n",
      "  data_min = np.nanmin(X, axis=0)\n",
      "C:\\Users\\domin\\anaconda3\\lib\\site-packages\\sklearn\\preprocessing\\_data.py:401: RuntimeWarning: All-NaN slice encountered\n",
      "  data_max = np.nanmax(X, axis=0)\n",
      "C:\\Users\\domin\\anaconda3\\lib\\site-packages\\sklearn\\preprocessing\\_data.py:400: RuntimeWarning: All-NaN slice encountered\n",
      "  data_min = np.nanmin(X, axis=0)\n",
      "C:\\Users\\domin\\anaconda3\\lib\\site-packages\\sklearn\\preprocessing\\_data.py:401: RuntimeWarning: All-NaN slice encountered\n",
      "  data_max = np.nanmax(X, axis=0)\n",
      "C:\\Users\\domin\\anaconda3\\lib\\site-packages\\sklearn\\preprocessing\\_data.py:400: RuntimeWarning: All-NaN slice encountered\n",
      "  data_min = np.nanmin(X, axis=0)\n",
      "C:\\Users\\domin\\anaconda3\\lib\\site-packages\\sklearn\\preprocessing\\_data.py:401: RuntimeWarning: All-NaN slice encountered\n",
      "  data_max = np.nanmax(X, axis=0)\n",
      "C:\\Users\\domin\\anaconda3\\lib\\site-packages\\sklearn\\preprocessing\\_data.py:400: RuntimeWarning: All-NaN slice encountered\n",
      "  data_min = np.nanmin(X, axis=0)\n",
      "C:\\Users\\domin\\anaconda3\\lib\\site-packages\\sklearn\\preprocessing\\_data.py:401: RuntimeWarning: All-NaN slice encountered\n",
      "  data_max = np.nanmax(X, axis=0)\n",
      "C:\\Users\\domin\\anaconda3\\lib\\site-packages\\sklearn\\preprocessing\\_data.py:400: RuntimeWarning: All-NaN slice encountered\n",
      "  data_min = np.nanmin(X, axis=0)\n",
      "C:\\Users\\domin\\anaconda3\\lib\\site-packages\\sklearn\\preprocessing\\_data.py:401: RuntimeWarning: All-NaN slice encountered\n",
      "  data_max = np.nanmax(X, axis=0)\n",
      "C:\\Users\\domin\\anaconda3\\lib\\site-packages\\sklearn\\preprocessing\\_data.py:400: RuntimeWarning: All-NaN slice encountered\n",
      "  data_min = np.nanmin(X, axis=0)\n",
      "C:\\Users\\domin\\anaconda3\\lib\\site-packages\\sklearn\\preprocessing\\_data.py:401: RuntimeWarning: All-NaN slice encountered\n",
      "  data_max = np.nanmax(X, axis=0)\n",
      "C:\\Users\\domin\\anaconda3\\lib\\site-packages\\sklearn\\preprocessing\\_data.py:400: RuntimeWarning: All-NaN slice encountered\n",
      "  data_min = np.nanmin(X, axis=0)\n",
      "C:\\Users\\domin\\anaconda3\\lib\\site-packages\\sklearn\\preprocessing\\_data.py:401: RuntimeWarning: All-NaN slice encountered\n",
      "  data_max = np.nanmax(X, axis=0)\n",
      "C:\\Users\\domin\\anaconda3\\lib\\site-packages\\sklearn\\preprocessing\\_data.py:400: RuntimeWarning: All-NaN slice encountered\n",
      "  data_min = np.nanmin(X, axis=0)\n",
      "C:\\Users\\domin\\anaconda3\\lib\\site-packages\\sklearn\\preprocessing\\_data.py:401: RuntimeWarning: All-NaN slice encountered\n",
      "  data_max = np.nanmax(X, axis=0)\n"
     ]
    }
   ],
   "source": [
    "# standarize data season by season\n",
    "from sklearn.preprocessing import MinMaxScaler\n",
    "scaler = MinMaxScaler()\n",
    "for year in  df[\"SEASON_ID\"].unique().tolist():\n",
    "    for col in num_cols:\n",
    "        df.loc[df['SEASON_ID']==year, col] = scaler.fit_transform(df.loc[df['SEASON_ID']==year, col].to_numpy().reshape(-1,1))"
   ]
  },
  {
   "cell_type": "code",
   "execution_count": 11,
   "id": "fe2915c5",
   "metadata": {},
   "outputs": [],
   "source": [
    "#Seperating our current 2022 season from the past 32 seasons. \n",
    "\n",
    "train = df.loc[(df['SEASON_ID']>=1990)&(df['SEASON_ID']<=2020),:]\n",
    "test = df.loc[(df['SEASON_ID']==2021),:]"
   ]
  },
  {
   "cell_type": "code",
   "execution_count": 12,
   "id": "eeb53d21",
   "metadata": {},
   "outputs": [],
   "source": [
    "#Splitting our testing and training dataset so that we train our model with statistics from MVP's\n",
    "\n",
    "ytrain = train['MVP']\n",
    "xtrain = train.iloc[:,:-1]\n",
    "\n",
    "ytest = test['MVP']\n",
    "xtest = test.iloc[:,:-1]"
   ]
  },
  {
   "cell_type": "code",
   "execution_count": 13,
   "id": "5b104adc",
   "metadata": {},
   "outputs": [
    {
     "name": "stdout",
     "output_type": "stream",
     "text": [
      "0    15770\n",
      "1       31\n",
      "Name: MVP, dtype: int64\n"
     ]
    },
    {
     "data": {
      "text/plain": [
       "<AxesSubplot:>"
      ]
     },
     "execution_count": 13,
     "metadata": {},
     "output_type": "execute_result"
    },
    {
     "data": {
      "image/png": "[encoded data removed]",
      "text/plain": [
       "<Figure size 432x288 with 1 Axes>"
      ]
     },
     "metadata": {
      "needs_background": "light"
     },
     "output_type": "display_data"
    }
   ],
   "source": [
    "#Getting a look at the amount of MVP's in the last 32 seasons. \n",
    "\n",
    "print(ytrain.value_counts())\n",
    "ytrain.value_counts().plot(kind='bar')"
   ]
  },
  {
   "cell_type": "code",
   "execution_count": 14,
   "id": "376cd768",
   "metadata": {},
   "outputs": [
    {
     "data": {
      "image/png": "[encoded data removed]",
      "text/plain": [
       "<Figure size 432x288 with 2 Axes>"
      ]
     },
     "metadata": {
      "needs_background": "light"
     },
     "output_type": "display_data"
    }
   ],
   "source": [
    "#Looking at a correlation matrix we dont really see any high correlation objects for selecting important features\n",
    "\n",
    "corrmat = df.corr()\n",
    "cols=corrmat.nlargest(10, 'MVP')['MVP'].index\n",
    "cm=np.corrcoef(df[cols].values.T)\n",
    "hm = sns.heatmap(cm, annot=True, annot_kws={'size': 7}, yticklabels=cols.values, xticklabels=cols.values, cmap = 'viridis')\n",
    "plt.show()"
   ]
  },
  {
   "cell_type": "code",
   "execution_count": 15,
   "id": "c92433c3",
   "metadata": {},
   "outputs": [
    {
     "data": {
      "text/plain": [
       "Text(0, 0.5, 'Importance')"
      ]
     },
     "execution_count": 15,
     "metadata": {},
     "output_type": "execute_result"
    },
    {
     "data": {
      "image/png": "[encoded data removed]",
      "text/plain": [
       "<Figure size 432x288 with 1 Axes>"
      ]
     },
     "metadata": {
      "needs_background": "light"
     },
     "output_type": "display_data"
    }
   ],
   "source": [
    "#Feature Selection with Random Forests\n",
    "#Random forests are able to extract the importance from features in making predictions\n",
    "#This is good for insight on being able to recognize trends for MVPs. \n",
    "\n",
    "from sklearn.ensemble import RandomForestClassifier\n",
    "rf = RandomForestClassifier(random_state=0,max_features=20)\n",
    "rf.fit(xtrain,ytrain)\n",
    "importance = pd.DataFrame(rf.feature_importances_,index=xtrain.columns.tolist(),columns=['importance']).sort_values(by='importance',ascending=False)\n",
    "importance.head(10).plot(kind='bar')\n",
    "plt.title(\"Random Forest Feature Importance\")\n",
    "plt.xlabel('Features')\n",
    "plt.ylabel('Importance')"
   ]
  },
  {
   "cell_type": "code",
   "execution_count": 67,
   "id": "c30efe55",
   "metadata": {},
   "outputs": [],
   "source": [
    "\n",
    "rf = RandomForestClassifier(random_state=0,class_weight=\"balanced\",max_depth=5,criterion='entropy',max_features='auto',n_estimators=100)\n"
   ]
  },
  {
   "cell_type": "code",
   "execution_count": 68,
   "id": "4a44b9b3",
   "metadata": {},
   "outputs": [
    {
     "data": {
      "text/plain": [
       "RandomForestClassifier(class_weight='balanced', criterion='entropy',\n",
       "                       max_depth=5, random_state=0)"
      ]
     },
     "execution_count": 68,
     "metadata": {},
     "output_type": "execute_result"
    }
   ],
   "source": [
    "rf.fit(xtrain,ytrain)"
   ]
  },
  {
   "cell_type": "code",
   "execution_count": 69,
   "id": "9ad080c8",
   "metadata": {},
   "outputs": [
    {
     "data": {
      "text/plain": [
       "<sklearn.metrics._plot.confusion_matrix.ConfusionMatrixDisplay at 0x22783e2c640>"
      ]
     },
     "execution_count": 69,
     "metadata": {},
     "output_type": "execute_result"
    },
    {
     "data": {
      "image/png": "[encoded data removed]",
      "text/plain": [
       "<Figure size 432x288 with 2 Axes>"
      ]
     },
     "metadata": {},
     "output_type": "display_data"
    }
   ],
   "source": [
    "from sklearn.metrics import plot_confusion_matrix, plot_roc_curve\n",
    "sns.set_style('dark')\n",
    "plot_confusion_matrix(rf,xtrain,ytrain)"
   ]
  },
  {
   "cell_type": "code",
   "execution_count": 42,
   "id": "03e625a4",
   "metadata": {},
   "outputs": [],
   "source": [
    "# fit to test set\n",
    "result = pd.DataFrame(rf.predict_proba(xtest),index = xtest.PLAYER_ID)\n",
    "\n",
    "result.rename(columns={0:'not',1:'mvp'},inplace=True)\n",
    "\n",
    "result['y/n'] = rf.predict(xtest)"
   ]
  },
  {
   "cell_type": "code",
   "execution_count": 43,
   "id": "fb512932",
   "metadata": {},
   "outputs": [],
   "source": [
    "mvp_candidates = result.sort_values(by='mvp',ascending=False)"
   ]
  },
  {
   "cell_type": "code",
   "execution_count": 44,
   "id": "b2414cae",
   "metadata": {},
   "outputs": [],
   "source": [
    "mvp_candidates.reset_index(inplace=True)"
   ]
  },
  {
   "cell_type": "code",
   "execution_count": 45,
   "id": "70b56d25",
   "metadata": {},
   "outputs": [],
   "source": [
    "mvp_candidates.drop(columns=['not'],inplace=True)"
   ]
  },
  {
   "cell_type": "code",
   "execution_count": 46,
   "id": "4fa3b3d0",
   "metadata": {},
   "outputs": [
    {
     "name": "stdout",
     "output_type": "stream",
     "text": [
      "Number of players fetched: 4723\n"
     ]
    }
   ],
   "source": [
    "from nba_api.stats.static import players\n",
    "# get_players returns a list of dictionaries, each representing a player.\n",
    "nba_players = players.get_players()\n",
    "print('Number of players fetched: {}'.format(len(nba_players)))"
   ]
  },
  {
   "cell_type": "code",
   "execution_count": 47,
   "id": "f71cc47e",
   "metadata": {},
   "outputs": [],
   "source": [
    "nba_players = pd.DataFrame(nba_players)"
   ]
  },
  {
   "cell_type": "code",
   "execution_count": 48,
   "id": "b2131264",
   "metadata": {},
   "outputs": [],
   "source": [
    "nba_players.rename(columns={\"id\":\"PLAYER_ID\"},inplace = True)"
   ]
  },
  {
   "cell_type": "code",
   "execution_count": 49,
   "id": "c2a93a15",
   "metadata": {},
   "outputs": [],
   "source": [
    "mvp_candidates = mvp_candidates.merge(nba_players.loc[:,['PLAYER_ID','full_name']],on='PLAYER_ID',how='left')"
   ]
  },
  {
   "cell_type": "code",
   "execution_count": 50,
   "id": "411fdb75",
   "metadata": {},
   "outputs": [
    {
     "data": {
      "text/html": [
       "<div>\n",
       "<style scoped>\n",
       "    .dataframe tbody tr th:only-of-type {\n",
       "        vertical-align: middle;\n",
       "    }\n",
       "\n",
       "    .dataframe tbody tr th {\n",
       "        vertical-align: top;\n",
       "    }\n",
       "\n",
       "    .dataframe thead th {\n",
       "        text-align: right;\n",
       "    }\n",
       "</style>\n",
       "<table border=\"1\" class=\"dataframe\">\n",
       "  <thead>\n",
       "    <tr style=\"text-align: right;\">\n",
       "      <th></th>\n",
       "      <th>PLAYER_ID</th>\n",
       "      <th>mvp</th>\n",
       "      <th>y/n</th>\n",
       "      <th>full_name</th>\n",
       "    </tr>\n",
       "  </thead>\n",
       "  <tbody>\n",
       "    <tr>\n",
       "      <th>0</th>\n",
       "      <td>201939</td>\n",
       "      <td>0.225</td>\n",
       "      <td>0</td>\n",
       "      <td>Stephen Curry</td>\n",
       "    </tr>\n",
       "    <tr>\n",
       "      <th>1</th>\n",
       "      <td>201142</td>\n",
       "      <td>0.120</td>\n",
       "      <td>0</td>\n",
       "      <td>Kevin Durant</td>\n",
       "    </tr>\n",
       "    <tr>\n",
       "      <th>2</th>\n",
       "      <td>203897</td>\n",
       "      <td>0.120</td>\n",
       "      <td>0</td>\n",
       "      <td>Zach LaVine</td>\n",
       "    </tr>\n",
       "    <tr>\n",
       "      <th>3</th>\n",
       "      <td>201942</td>\n",
       "      <td>0.080</td>\n",
       "      <td>0</td>\n",
       "      <td>DeMar DeRozan</td>\n",
       "    </tr>\n",
       "    <tr>\n",
       "      <th>4</th>\n",
       "      <td>1628378</td>\n",
       "      <td>0.078</td>\n",
       "      <td>0</td>\n",
       "      <td>Donovan Mitchell</td>\n",
       "    </tr>\n",
       "    <tr>\n",
       "      <th>5</th>\n",
       "      <td>1629027</td>\n",
       "      <td>0.054</td>\n",
       "      <td>0</td>\n",
       "      <td>Trae Young</td>\n",
       "    </tr>\n",
       "    <tr>\n",
       "      <th>6</th>\n",
       "      <td>1626164</td>\n",
       "      <td>0.044</td>\n",
       "      <td>0</td>\n",
       "      <td>Devin Booker</td>\n",
       "    </tr>\n",
       "    <tr>\n",
       "      <th>7</th>\n",
       "      <td>201935</td>\n",
       "      <td>0.031</td>\n",
       "      <td>0</td>\n",
       "      <td>James Harden</td>\n",
       "    </tr>\n",
       "    <tr>\n",
       "      <th>8</th>\n",
       "      <td>203507</td>\n",
       "      <td>0.030</td>\n",
       "      <td>0</td>\n",
       "      <td>Giannis Antetokounmpo</td>\n",
       "    </tr>\n",
       "    <tr>\n",
       "      <th>9</th>\n",
       "      <td>203497</td>\n",
       "      <td>0.022</td>\n",
       "      <td>0</td>\n",
       "      <td>Rudy Gobert</td>\n",
       "    </tr>\n",
       "  </tbody>\n",
       "</table>\n",
       "</div>"
      ],
      "text/plain": [
       "   PLAYER_ID    mvp  y/n              full_name\n",
       "0     201939  0.225    0          Stephen Curry\n",
       "1     201142  0.120    0           Kevin Durant\n",
       "2     203897  0.120    0            Zach LaVine\n",
       "3     201942  0.080    0          DeMar DeRozan\n",
       "4    1628378  0.078    0       Donovan Mitchell\n",
       "5    1629027  0.054    0             Trae Young\n",
       "6    1626164  0.044    0           Devin Booker\n",
       "7     201935  0.031    0           James Harden\n",
       "8     203507  0.030    0  Giannis Antetokounmpo\n",
       "9     203497  0.022    0            Rudy Gobert"
      ]
     },
     "execution_count": 50,
     "metadata": {},
     "output_type": "execute_result"
    }
   ],
   "source": [
    "mvp_candidates.head(10)"
   ]
  },
  {
   "cell_type": "code",
   "execution_count": 51,
   "id": "199bcbfb",
   "metadata": {},
   "outputs": [
    {
     "data": {
      "text/plain": [
       "(array([0, 1, 2, 3, 4, 5, 6, 7, 8, 9]),\n",
       " [Text(0, 0, 'Stephen Curry'),\n",
       "  Text(1, 0, 'Kevin Durant'),\n",
       "  Text(2, 0, 'Zach LaVine'),\n",
       "  Text(3, 0, 'DeMar DeRozan'),\n",
       "  Text(4, 0, 'Donovan Mitchell'),\n",
       "  Text(5, 0, 'Trae Young'),\n",
       "  Text(6, 0, 'Devin Booker'),\n",
       "  Text(7, 0, 'James Harden'),\n",
       "  Text(8, 0, 'Giannis Antetokounmpo'),\n",
       "  Text(9, 0, 'Rudy Gobert')])"
      ]
     },
     "execution_count": 51,
     "metadata": {},
     "output_type": "execute_result"
    },
    {
     "data": {
      "image/png": "[encoded data removed]",
      "text/plain": [
       "<Figure size 432x288 with 1 Axes>"
      ]
     },
     "metadata": {},
     "output_type": "display_data"
    }
   ],
   "source": [
    "sns.barplot(x='full_name',y='mvp',data=mvp_candidates.head(10))\n",
    "plt.xticks(rotation=45)"
   ]
  },
  {
   "cell_type": "code",
   "execution_count": 29,
   "id": "1c40ce59",
   "metadata": {},
   "outputs": [
    {
     "name": "stderr",
     "output_type": "stream",
     "text": [
      "C:\\Users\\domin\\anaconda3\\lib\\site-packages\\scipy\\optimize\\linesearch.py:478: LineSearchWarning: The line search algorithm did not converge\n",
      "  warn('The line search algorithm did not converge', LineSearchWarning)\n",
      "C:\\Users\\domin\\anaconda3\\lib\\site-packages\\scipy\\optimize\\linesearch.py:327: LineSearchWarning: The line search algorithm did not converge\n",
      "  warn('The line search algorithm did not converge', LineSearchWarning)\n",
      "C:\\Users\\domin\\anaconda3\\lib\\site-packages\\sklearn\\utils\\optimize.py:202: ConvergenceWarning: newton-cg failed to converge. Increase the number of iterations.\n",
      "  warnings.warn(\"newton-cg failed to converge. Increase the \"\n"
     ]
    },
    {
     "data": {
      "text/plain": [
       "<sklearn.metrics._plot.confusion_matrix.ConfusionMatrixDisplay at 0x227839fabe0>"
      ]
     },
     "execution_count": 29,
     "metadata": {},
     "output_type": "execute_result"
    },
    {
     "data": {
      "image/png": "[encoded data removed]",
      "text/plain": [
       "<Figure size 432x288 with 2 Axes>"
      ]
     },
     "metadata": {},
     "output_type": "display_data"
    }
   ],
   "source": [
    "#Now lets try a relatively simple classifer the logistic regression. \n",
    "\n",
    "from sklearn.linear_model import LogisticRegression\n",
    "lr =LogisticRegression(penalty='none',solver='newton-cg',class_weight='balanced')\n",
    "lr.fit(xtrain,ytrain)\n",
    "\n",
    "sns.set_style('dark')\n",
    "plot_confusion_matrix(lr,xtrain,ytrain)"
   ]
  },
  {
   "cell_type": "code",
   "execution_count": 30,
   "id": "53aca7de",
   "metadata": {},
   "outputs": [],
   "source": [
    "# fit to test set\n",
    "result = pd.DataFrame(lr.predict_proba(xtest),index = xtest.PLAYER_ID)\n",
    "\n",
    "result.rename(columns={0:'not',1:'mvp'},inplace=True)\n",
    "\n",
    "result['y/n'] = lr.predict(xtest)"
   ]
  },
  {
   "cell_type": "code",
   "execution_count": 31,
   "id": "b241114e",
   "metadata": {
    "scrolled": true
   },
   "outputs": [
    {
     "data": {
      "text/html": [
       "<div>\n",
       "<style scoped>\n",
       "    .dataframe tbody tr th:only-of-type {\n",
       "        vertical-align: middle;\n",
       "    }\n",
       "\n",
       "    .dataframe tbody tr th {\n",
       "        vertical-align: top;\n",
       "    }\n",
       "\n",
       "    .dataframe thead th {\n",
       "        text-align: right;\n",
       "    }\n",
       "</style>\n",
       "<table border=\"1\" class=\"dataframe\">\n",
       "  <thead>\n",
       "    <tr style=\"text-align: right;\">\n",
       "      <th></th>\n",
       "      <th>PLAYER_ID</th>\n",
       "      <th>mvp</th>\n",
       "      <th>y/n</th>\n",
       "      <th>full_name</th>\n",
       "    </tr>\n",
       "  </thead>\n",
       "  <tbody>\n",
       "    <tr>\n",
       "      <th>0</th>\n",
       "      <td>201939</td>\n",
       "      <td>0.928265</td>\n",
       "      <td>1</td>\n",
       "      <td>Stephen Curry</td>\n",
       "    </tr>\n",
       "    <tr>\n",
       "      <th>1</th>\n",
       "      <td>201935</td>\n",
       "      <td>0.674823</td>\n",
       "      <td>1</td>\n",
       "      <td>James Harden</td>\n",
       "    </tr>\n",
       "    <tr>\n",
       "      <th>2</th>\n",
       "      <td>201142</td>\n",
       "      <td>0.622590</td>\n",
       "      <td>1</td>\n",
       "      <td>Kevin Durant</td>\n",
       "    </tr>\n",
       "    <tr>\n",
       "      <th>3</th>\n",
       "      <td>101108</td>\n",
       "      <td>0.214904</td>\n",
       "      <td>0</td>\n",
       "      <td>Chris Paul</td>\n",
       "    </tr>\n",
       "    <tr>\n",
       "      <th>4</th>\n",
       "      <td>203897</td>\n",
       "      <td>0.077632</td>\n",
       "      <td>0</td>\n",
       "      <td>Zach LaVine</td>\n",
       "    </tr>\n",
       "    <tr>\n",
       "      <th>5</th>\n",
       "      <td>201942</td>\n",
       "      <td>0.016525</td>\n",
       "      <td>0</td>\n",
       "      <td>DeMar DeRozan</td>\n",
       "    </tr>\n",
       "    <tr>\n",
       "      <th>6</th>\n",
       "      <td>200768</td>\n",
       "      <td>0.015599</td>\n",
       "      <td>0</td>\n",
       "      <td>Kyle Lowry</td>\n",
       "    </tr>\n",
       "    <tr>\n",
       "      <th>7</th>\n",
       "      <td>203497</td>\n",
       "      <td>0.014362</td>\n",
       "      <td>0</td>\n",
       "      <td>Rudy Gobert</td>\n",
       "    </tr>\n",
       "    <tr>\n",
       "      <th>8</th>\n",
       "      <td>201566</td>\n",
       "      <td>0.004228</td>\n",
       "      <td>0</td>\n",
       "      <td>Russell Westbrook</td>\n",
       "    </tr>\n",
       "    <tr>\n",
       "      <th>9</th>\n",
       "      <td>203507</td>\n",
       "      <td>0.003794</td>\n",
       "      <td>0</td>\n",
       "      <td>Giannis Antetokounmpo</td>\n",
       "    </tr>\n",
       "  </tbody>\n",
       "</table>\n",
       "</div>"
      ],
      "text/plain": [
       "   PLAYER_ID       mvp  y/n              full_name\n",
       "0     201939  0.928265    1          Stephen Curry\n",
       "1     201935  0.674823    1           James Harden\n",
       "2     201142  0.622590    1           Kevin Durant\n",
       "3     101108  0.214904    0             Chris Paul\n",
       "4     203897  0.077632    0            Zach LaVine\n",
       "5     201942  0.016525    0          DeMar DeRozan\n",
       "6     200768  0.015599    0             Kyle Lowry\n",
       "7     203497  0.014362    0            Rudy Gobert\n",
       "8     201566  0.004228    0      Russell Westbrook\n",
       "9     203507  0.003794    0  Giannis Antetokounmpo"
      ]
     },
     "execution_count": 31,
     "metadata": {},
     "output_type": "execute_result"
    }
   ],
   "source": [
    "mvp_candidates = result.sort_values(by='mvp',ascending=False)\n",
    "mvp_candidates.reset_index(inplace=True)\n",
    "mvp_candidates.drop(columns=['not'],inplace=True)\n",
    "mvp_candidates = mvp_candidates.merge(nba_players.loc[:,['PLAYER_ID','full_name']],on='PLAYER_ID',how='left')\n",
    "mvp_candidates.head(10)"
   ]
  },
  {
   "cell_type": "code",
   "execution_count": 32,
   "id": "b104e48e",
   "metadata": {},
   "outputs": [
    {
     "data": {
      "text/plain": [
       "(array([0, 1, 2, 3, 4, 5, 6, 7, 8, 9]),\n",
       " [Text(0, 0, 'Stephen Curry'),\n",
       "  Text(1, 0, 'James Harden'),\n",
       "  Text(2, 0, 'Kevin Durant'),\n",
       "  Text(3, 0, 'Chris Paul'),\n",
       "  Text(4, 0, 'Zach LaVine'),\n",
       "  Text(5, 0, 'DeMar DeRozan'),\n",
       "  Text(6, 0, 'Kyle Lowry'),\n",
       "  Text(7, 0, 'Rudy Gobert'),\n",
       "  Text(8, 0, 'Russell Westbrook'),\n",
       "  Text(9, 0, 'Giannis Antetokounmpo')])"
      ]
     },
     "execution_count": 32,
     "metadata": {},
     "output_type": "execute_result"
    },
    {
     "data": {
      "image/png": "[encoded data removed]",
      "text/plain": [
       "<Figure size 432x288 with 1 Axes>"
      ]
     },
     "metadata": {},
     "output_type": "display_data"
    }
   ],
   "source": [
    "sns.barplot(x='full_name',y='mvp',data=mvp_candidates.head(10))\n",
    "plt.xticks(rotation=45)"
   ]
  },
  {
   "cell_type": "code",
   "execution_count": 33,
   "id": "4b9f9f90",
   "metadata": {},
   "outputs": [
    {
     "data": {
      "text/plain": [
       "<sklearn.metrics._plot.confusion_matrix.ConfusionMatrixDisplay at 0x22783aafa30>"
      ]
     },
     "execution_count": 33,
     "metadata": {},
     "output_type": "execute_result"
    },
    {
     "data": {
      "image/png": "[encoded data removed]",
      "text/plain": [
       "<Figure size 432x288 with 2 Axes>"
      ]
     },
     "metadata": {},
     "output_type": "display_data"
    }
   ],
   "source": [
    "from sklearn.neighbors import KNeighborsClassifier\n",
    "knn=KNeighborsClassifier(10)\n",
    "knn.fit(xtrain,ytrain)   \n",
    "\n",
    "sns.set_style('dark')\n",
    "plot_confusion_matrix(lr,xtrain,ytrain)\n"
   ]
  },
  {
   "cell_type": "code",
   "execution_count": 34,
   "id": "dd85d8d9",
   "metadata": {},
   "outputs": [],
   "source": [
    "# fit to test set\n",
    "result = pd.DataFrame(knn.predict_proba(xtest),index = xtest.PLAYER_ID)\n",
    "\n",
    "result.rename(columns={0:'not',1:'mvp'},inplace=True)\n",
    "\n",
    "result['y/n'] = lr.predict(xtest)"
   ]
  },
  {
   "cell_type": "code",
   "execution_count": 35,
   "id": "5ffb6f11",
   "metadata": {},
   "outputs": [
    {
     "data": {
      "text/html": [
       "<div>\n",
       "<style scoped>\n",
       "    .dataframe tbody tr th:only-of-type {\n",
       "        vertical-align: middle;\n",
       "    }\n",
       "\n",
       "    .dataframe tbody tr th {\n",
       "        vertical-align: top;\n",
       "    }\n",
       "\n",
       "    .dataframe thead th {\n",
       "        text-align: right;\n",
       "    }\n",
       "</style>\n",
       "<table border=\"1\" class=\"dataframe\">\n",
       "  <thead>\n",
       "    <tr style=\"text-align: right;\">\n",
       "      <th></th>\n",
       "      <th>PLAYER_ID</th>\n",
       "      <th>mvp</th>\n",
       "      <th>y/n</th>\n",
       "      <th>full_name</th>\n",
       "    </tr>\n",
       "  </thead>\n",
       "  <tbody>\n",
       "    <tr>\n",
       "      <th>0</th>\n",
       "      <td>203507</td>\n",
       "      <td>0.2</td>\n",
       "      <td>0</td>\n",
       "      <td>Giannis Antetokounmpo</td>\n",
       "    </tr>\n",
       "    <tr>\n",
       "      <th>1</th>\n",
       "      <td>204001</td>\n",
       "      <td>0.1</td>\n",
       "      <td>0</td>\n",
       "      <td>Kristaps Porzingis</td>\n",
       "    </tr>\n",
       "    <tr>\n",
       "      <th>2</th>\n",
       "      <td>203999</td>\n",
       "      <td>0.1</td>\n",
       "      <td>0</td>\n",
       "      <td>Nikola Jokic</td>\n",
       "    </tr>\n",
       "    <tr>\n",
       "      <th>3</th>\n",
       "      <td>1630173</td>\n",
       "      <td>0.0</td>\n",
       "      <td>0</td>\n",
       "      <td>Precious Achiuwa</td>\n",
       "    </tr>\n",
       "    <tr>\n",
       "      <th>4</th>\n",
       "      <td>1629646</td>\n",
       "      <td>0.0</td>\n",
       "      <td>0</td>\n",
       "      <td>Charles Bassey</td>\n",
       "    </tr>\n",
       "    <tr>\n",
       "      <th>5</th>\n",
       "      <td>1628420</td>\n",
       "      <td>0.0</td>\n",
       "      <td>0</td>\n",
       "      <td>Monte Morris</td>\n",
       "    </tr>\n",
       "    <tr>\n",
       "      <th>6</th>\n",
       "      <td>1630192</td>\n",
       "      <td>0.0</td>\n",
       "      <td>0</td>\n",
       "      <td>Zeke Nnaji</td>\n",
       "    </tr>\n",
       "    <tr>\n",
       "      <th>7</th>\n",
       "      <td>1629008</td>\n",
       "      <td>0.0</td>\n",
       "      <td>0</td>\n",
       "      <td>Michael Porter Jr.</td>\n",
       "    </tr>\n",
       "    <tr>\n",
       "      <th>8</th>\n",
       "      <td>1628432</td>\n",
       "      <td>0.0</td>\n",
       "      <td>0</td>\n",
       "      <td>Davon Reed</td>\n",
       "    </tr>\n",
       "    <tr>\n",
       "      <th>9</th>\n",
       "      <td>203085</td>\n",
       "      <td>0.0</td>\n",
       "      <td>0</td>\n",
       "      <td>Austin Rivers</td>\n",
       "    </tr>\n",
       "  </tbody>\n",
       "</table>\n",
       "</div>"
      ],
      "text/plain": [
       "   PLAYER_ID  mvp  y/n              full_name\n",
       "0     203507  0.2    0  Giannis Antetokounmpo\n",
       "1     204001  0.1    0     Kristaps Porzingis\n",
       "2     203999  0.1    0           Nikola Jokic\n",
       "3    1630173  0.0    0       Precious Achiuwa\n",
       "4    1629646  0.0    0         Charles Bassey\n",
       "5    1628420  0.0    0           Monte Morris\n",
       "6    1630192  0.0    0             Zeke Nnaji\n",
       "7    1629008  0.0    0     Michael Porter Jr.\n",
       "8    1628432  0.0    0             Davon Reed\n",
       "9     203085  0.0    0          Austin Rivers"
      ]
     },
     "execution_count": 35,
     "metadata": {},
     "output_type": "execute_result"
    }
   ],
   "source": [
    "mvp_candidates = result.sort_values(by='mvp',ascending=False)\n",
    "mvp_candidates.reset_index(inplace=True)\n",
    "mvp_candidates.drop(columns=['not'],inplace=True)\n",
    "mvp_candidates = mvp_candidates.merge(nba_players.loc[:,['PLAYER_ID','full_name']],on='PLAYER_ID',how='left')\n",
    "mvp_candidates.head(10)"
   ]
  },
  {
   "cell_type": "code",
   "execution_count": 36,
   "id": "4c21d965",
   "metadata": {},
   "outputs": [
    {
     "data": {
      "text/plain": [
       "(array([0, 1, 2, 3, 4, 5, 6, 7, 8, 9]),\n",
       " [Text(0, 0, 'Giannis Antetokounmpo'),\n",
       "  Text(1, 0, 'Kristaps Porzingis'),\n",
       "  Text(2, 0, 'Nikola Jokic'),\n",
       "  Text(3, 0, 'Precious Achiuwa'),\n",
       "  Text(4, 0, 'Charles Bassey'),\n",
       "  Text(5, 0, 'Monte Morris'),\n",
       "  Text(6, 0, 'Zeke Nnaji'),\n",
       "  Text(7, 0, 'Michael Porter Jr.'),\n",
       "  Text(8, 0, 'Davon Reed'),\n",
       "  Text(9, 0, 'Austin Rivers')])"
      ]
     },
     "execution_count": 36,
     "metadata": {},
     "output_type": "execute_result"
    },
    {
     "data": {
      "image/png": "[encoded data removed]",
      "text/plain": [
       "<Figure size 432x288 with 1 Axes>"
      ]
     },
     "metadata": {},
     "output_type": "display_data"
    }
   ],
   "source": [
    "sns.barplot(x='full_name',y='mvp',data=mvp_candidates.head(10))\n",
    "plt.xticks(rotation=90)"
   ]
  },
  {
   "cell_type": "code",
   "execution_count": 37,
   "id": "f9229445",
   "metadata": {},
   "outputs": [
    {
     "data": {
      "text/plain": [
       "<sklearn.metrics._plot.confusion_matrix.ConfusionMatrixDisplay at 0x22783a214f0>"
      ]
     },
     "execution_count": 37,
     "metadata": {},
     "output_type": "execute_result"
    },
    {
     "data": {
      "image/png": "[encoded data removed]",
      "text/plain": [
       "<Figure size 432x288 with 2 Axes>"
      ]
     },
     "metadata": {},
     "output_type": "display_data"
    }
   ],
   "source": [
    "from sklearn.ensemble import AdaBoostClassifier, GradientBoostingClassifier\n",
    "\n",
    "ada = AdaBoostClassifier(n_estimators=12, learning_rate=2)\n",
    "ada.fit(xtrain,ytrain)\n",
    "\n",
    "sns.set_style('dark')\n",
    "plot_confusion_matrix(ada,xtrain,ytrain)"
   ]
  },
  {
   "cell_type": "code",
   "execution_count": 38,
   "id": "2c651288",
   "metadata": {},
   "outputs": [
    {
     "data": {
      "text/plain": [
       "(array([0, 1, 2, 3, 4, 5, 6, 7, 8, 9]),\n",
       " [Text(0, 0, 'Kevin Durant'),\n",
       "  Text(1, 0, 'Devin Booker'),\n",
       "  Text(2, 0, 'James Harden'),\n",
       "  Text(3, 0, 'Stephen Curry'),\n",
       "  Text(4, 0, 'Jimmy Butler'),\n",
       "  Text(5, 0, 'Miles Bridges'),\n",
       "  Text(6, 0, 'Chris Paul'),\n",
       "  Text(7, 0, 'Kyle Lowry'),\n",
       "  Text(8, 0, 'Donovan Mitchell'),\n",
       "  Text(9, 0, 'Rudy Gobert')])"
      ]
     },
     "execution_count": 38,
     "metadata": {},
     "output_type": "execute_result"
    },
    {
     "data": {
      "image/png": "[encoded data removed]",
      "text/plain": [
       "<Figure size 432x288 with 1 Axes>"
      ]
     },
     "metadata": {},
     "output_type": "display_data"
    }
   ],
   "source": [
    "result = pd.DataFrame(ada.predict_proba(xtest),index = xtest.PLAYER_ID)\n",
    "\n",
    "result.rename(columns={0:'not',1:'mvp'},inplace=True)\n",
    "\n",
    "result['y/n'] = ada.predict(xtest)\n",
    "\n",
    "mvp_candidates = result.sort_values(by='mvp',ascending=False)\n",
    "mvp_candidates.reset_index(inplace=True)\n",
    "mvp_candidates.drop(columns=['not'],inplace=True)\n",
    "mvp_candidates = mvp_candidates.merge(nba_players.loc[:,['PLAYER_ID','full_name']],on='PLAYER_ID',how='left')\n",
    "mvp_candidates.head(10)\n",
    "\n",
    "sns.barplot(x='full_name',y='mvp',data=mvp_candidates.head(10))\n",
    "plt.xticks(rotation=45)"
   ]
  },
  {
   "cell_type": "code",
   "execution_count": null,
   "id": "98a39eee",
   "metadata": {},
   "outputs": [],
   "source": []
  }
 ],
 "metadata": {
  "kernelspec": {
   "display_name": "Python 3 (ipykernel)",
   "language": "python",
   "name": "python3"
  },
  "language_info": {
   "codemirror_mode": {
    "name": "ipython",
    "version": 3
   },
   "file_extension": ".py",
   "mimetype": "text/x-python",
   "name": "python",
   "nbconvert_exporter": "python",
   "pygments_lexer": "ipython3",
   "version": "3.9.7"
  }
 },
 "nbformat": 4,
 "nbformat_minor": 5
}
